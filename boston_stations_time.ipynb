{
 "cells": [
  {
   "cell_type": "code",
   "execution_count": 10,
   "metadata": {},
   "outputs": [],
   "source": [
    "import pandas as pd\n",
    "import matplotlib.pyplot as plt\n",
    "import numpy as np\n",
    "plt.style.use('seaborn')"
   ]
  },
  {
   "cell_type": "code",
   "execution_count": 11,
   "metadata": {},
   "outputs": [
    {
     "data": {
      "text/html": [
       "<div>\n",
       "<style scoped>\n",
       "    .dataframe tbody tr th:only-of-type {\n",
       "        vertical-align: middle;\n",
       "    }\n",
       "\n",
       "    .dataframe tbody tr th {\n",
       "        vertical-align: top;\n",
       "    }\n",
       "\n",
       "    .dataframe thead th {\n",
       "        text-align: right;\n",
       "    }\n",
       "</style>\n",
       "<table border=\"1\" class=\"dataframe\">\n",
       "  <thead>\n",
       "    <tr style=\"text-align: right;\">\n",
       "      <th></th>\n",
       "      <th>id</th>\n",
       "      <th>geometry</th>\n",
       "      <th>buildstart</th>\n",
       "      <th>opening</th>\n",
       "      <th>closure</th>\n",
       "      <th>length</th>\n",
       "      <th>city_id</th>\n",
       "    </tr>\n",
       "  </thead>\n",
       "  <tbody>\n",
       "    <tr>\n",
       "      <th>131</th>\n",
       "      <td>8971</td>\n",
       "      <td>LINESTRING(-71.1055106 42.3464858,-71.10523556...</td>\n",
       "      <td>1888.0</td>\n",
       "      <td>1888.0</td>\n",
       "      <td>1932.0</td>\n",
       "      <td>757</td>\n",
       "      <td>139</td>\n",
       "    </tr>\n",
       "    <tr>\n",
       "      <th>1981</th>\n",
       "      <td>8973</td>\n",
       "      <td>LINESTRING(-71.0645245542104 42.3526597738119,...</td>\n",
       "      <td>1895.0</td>\n",
       "      <td>1897.0</td>\n",
       "      <td>999999.0</td>\n",
       "      <td>451</td>\n",
       "      <td>139</td>\n",
       "    </tr>\n",
       "    <tr>\n",
       "      <th>1986</th>\n",
       "      <td>8974</td>\n",
       "      <td>LINESTRING(-71.0896405453459 42.3508100910057,...</td>\n",
       "      <td>1889.0</td>\n",
       "      <td>1889.0</td>\n",
       "      <td>1914.0</td>\n",
       "      <td>330</td>\n",
       "      <td>139</td>\n",
       "    </tr>\n",
       "    <tr>\n",
       "      <th>4653</th>\n",
       "      <td>8979</td>\n",
       "      <td>LINESTRING(-71.0622649133985 42.3563093900915,...</td>\n",
       "      <td>1898.0</td>\n",
       "      <td>1898.0</td>\n",
       "      <td>999999.0</td>\n",
       "      <td>409</td>\n",
       "      <td>139</td>\n",
       "    </tr>\n",
       "    <tr>\n",
       "      <th>4704</th>\n",
       "      <td>8982</td>\n",
       "      <td>LINESTRING(-71.0595494162015 42.3593691538885,...</td>\n",
       "      <td>1898.0</td>\n",
       "      <td>1898.0</td>\n",
       "      <td>1963.0</td>\n",
       "      <td>553</td>\n",
       "      <td>139</td>\n",
       "    </tr>\n",
       "  </tbody>\n",
       "</table>\n",
       "</div>"
      ],
      "text/plain": [
       "        id                                           geometry  buildstart  \\\n",
       "131   8971  LINESTRING(-71.1055106 42.3464858,-71.10523556...      1888.0   \n",
       "1981  8973  LINESTRING(-71.0645245542104 42.3526597738119,...      1895.0   \n",
       "1986  8974  LINESTRING(-71.0896405453459 42.3508100910057,...      1889.0   \n",
       "4653  8979  LINESTRING(-71.0622649133985 42.3563093900915,...      1898.0   \n",
       "4704  8982  LINESTRING(-71.0595494162015 42.3593691538885,...      1898.0   \n",
       "\n",
       "      opening   closure  length  city_id  \n",
       "131    1888.0    1932.0     757      139  \n",
       "1981   1897.0  999999.0     451      139  \n",
       "1986   1889.0    1914.0     330      139  \n",
       "4653   1898.0  999999.0     409      139  \n",
       "4704   1898.0    1963.0     553      139  "
      ]
     },
     "execution_count": 11,
     "metadata": {},
     "output_type": "execute_result"
    }
   ],
   "source": [
    "#Read in data sets\n",
    "#Stations\n",
    "df_stations = pd.read_csv('data/stations.csv')\n",
    "boston_id = 139\n",
    "df_boston = df_stations[df_stations['city_id'] == boston_id]\n",
    "\n",
    "#Tracks\n",
    "df_tracks = pd.read_csv('data/tracks.csv')\n",
    "df_boston_tracks = df_tracks[df_tracks['city_id'] == boston_id]\n",
    "df_boston_tracks.head()"
   ]
  },
  {
   "cell_type": "code",
   "execution_count": 12,
   "metadata": {},
   "outputs": [
    {
     "name": "stderr",
     "output_type": "stream",
     "text": [
      "/opt/anaconda3/lib/python3.7/site-packages/ipykernel_launcher.py:4: SettingWithCopyWarning: \n",
      "A value is trying to be set on a copy of a slice from a DataFrame.\n",
      "Try using .loc[row_indexer,col_indexer] = value instead\n",
      "\n",
      "See the caveats in the documentation: https://pandas.pydata.org/pandas-docs/stable/user_guide/indexing.html#returning-a-view-versus-a-copy\n",
      "  after removing the cwd from sys.path.\n",
      "/opt/anaconda3/lib/python3.7/site-packages/ipykernel_launcher.py:6: SettingWithCopyWarning: \n",
      "A value is trying to be set on a copy of a slice from a DataFrame.\n",
      "Try using .loc[row_indexer,col_indexer] = value instead\n",
      "\n",
      "See the caveats in the documentation: https://pandas.pydata.org/pandas-docs/stable/user_guide/indexing.html#returning-a-view-versus-a-copy\n",
      "  \n",
      "/opt/anaconda3/lib/python3.7/site-packages/ipykernel_launcher.py:8: SettingWithCopyWarning: \n",
      "A value is trying to be set on a copy of a slice from a DataFrame.\n",
      "Try using .loc[row_indexer,col_indexer] = value instead\n",
      "\n",
      "See the caveats in the documentation: https://pandas.pydata.org/pandas-docs/stable/user_guide/indexing.html#returning-a-view-versus-a-copy\n",
      "  \n",
      "/opt/anaconda3/lib/python3.7/site-packages/ipykernel_launcher.py:12: SettingWithCopyWarning: \n",
      "A value is trying to be set on a copy of a slice from a DataFrame.\n",
      "Try using .loc[row_indexer,col_indexer] = value instead\n",
      "\n",
      "See the caveats in the documentation: https://pandas.pydata.org/pandas-docs/stable/user_guide/indexing.html#returning-a-view-versus-a-copy\n",
      "  if sys.path[0] == '':\n",
      "/opt/anaconda3/lib/python3.7/site-packages/ipykernel_launcher.py:14: SettingWithCopyWarning: \n",
      "A value is trying to be set on a copy of a slice from a DataFrame.\n",
      "Try using .loc[row_indexer,col_indexer] = value instead\n",
      "\n",
      "See the caveats in the documentation: https://pandas.pydata.org/pandas-docs/stable/user_guide/indexing.html#returning-a-view-versus-a-copy\n",
      "  \n",
      "/opt/anaconda3/lib/python3.7/site-packages/ipykernel_launcher.py:16: SettingWithCopyWarning: \n",
      "A value is trying to be set on a copy of a slice from a DataFrame.\n",
      "Try using .loc[row_indexer,col_indexer] = value instead\n",
      "\n",
      "See the caveats in the documentation: https://pandas.pydata.org/pandas-docs/stable/user_guide/indexing.html#returning-a-view-versus-a-copy\n",
      "  app.launch_new_instance()\n"
     ]
    }
   ],
   "source": [
    "#Replace 0s in openings and 999999s in closings with NaN\n",
    "#Stations\n",
    "df_boston['closure'] = np.where(df_boston['closure'] > 3000.0,\n",
    "                                      np.nan, df_boston['closure'])\n",
    "df_boston['buildstart'] = np.where(df_boston['buildstart'] == 0,\n",
    "                                      np.nan, df_boston['buildstart'])\n",
    "df_boston['opening'] = np.where(df_boston['opening'] == 0,\n",
    "                                      np.nan, df_boston['opening'])\n",
    "\n",
    "#Tracks\n",
    "df_boston_tracks['closure'] = np.where(df_boston_tracks['closure'] > 3000.0,\n",
    "                                      np.nan, df_boston_tracks['closure'])\n",
    "df_boston_tracks['buildstart'] = np.where(df_boston_tracks['buildstart'] == 0,\n",
    "                                      np.nan, df_boston_tracks['buildstart'])\n",
    "df_boston_tracks['opening'] = np.where(df_boston_tracks['opening'] == 0,\n",
    "                                      np.nan, df_boston_tracks['opening'])"
   ]
  },
  {
   "cell_type": "code",
   "execution_count": 13,
   "metadata": {},
   "outputs": [
    {
     "data": {
      "image/png": "[encoded data removed]",
      "text/plain": [
       "<Figure size 576x396 with 1 Axes>"
      ]
     },
     "metadata": {},
     "output_type": "display_data"
    }
   ],
   "source": [
    "#Create bar chart of openings in stations over time\n",
    "group_obj = df_boston.groupby(['opening'])['id'].count()\n",
    "group_df = group_obj.reset_index()\n",
    "ticks = [1,25,50,75]\n",
    "labs = [group_df['opening'][tick] for tick in ticks]\n",
    "ax = group_obj.plot.bar()\n",
    "ax.set_title('Stations Opened')\n",
    "ax.set_xticks(ticks)\n",
    "ax.set_xticklabels(labs)\n",
    "ax.set_ylabel('Stations')\n",
    "ax.set_xlabel('Year')\n",
    "\n",
    "# ax.figure.savefig('images/open_station.png')"
   ]
  },
  {
   "cell_type": "code",
   "execution_count": 14,
   "metadata": {},
   "outputs": [
    {
     "data": {
      "image/png": "[encoded data removed]",
      "text/plain": [
       "<Figure size 576x396 with 1 Axes>"
      ]
     },
     "metadata": {},
     "output_type": "display_data"
    }
   ],
   "source": [
    "#Create bar chart of openings in tracks over time\n",
    "group_obj = df_boston_tracks.groupby(['opening'])['id'].count()\n",
    "group_df = group_obj.reset_index()\n",
    "ticks = [1,25,50]\n",
    "labs = [group_df['opening'][tick] for tick in ticks]\n",
    "ax = group_obj.plot.bar()\n",
    "ax.set_title('Tracks Opened')\n",
    "ax.set_xticks(ticks)\n",
    "ax.set_xticklabels(labs)\n",
    "ax.set_ylabel('Tracks')\n",
    "ax.set_xlabel('Year')\n",
    "\n",
    "# ax.figure.savefig('images/open_track.png')"
   ]
  },
  {
   "cell_type": "code",
   "execution_count": 15,
   "metadata": {},
   "outputs": [
    {
     "data": {
      "image/png": "[encoded data removed]",
      "text/plain": [
       "<Figure size 576x396 with 1 Axes>"
      ]
     },
     "metadata": {},
     "output_type": "display_data"
    }
   ],
   "source": [
    "#Create bar chart of closures in stations over time\n",
    "group_obj = df_boston.groupby(['closure'])['id'].count()\n",
    "group_df = group_obj.reset_index()\n",
    "ticks = [1,14,28]\n",
    "labs = [group_df['closure'][tick] for tick in ticks]\n",
    "ax = group_obj.plot.bar()\n",
    "ax.set_title('Station Closures')\n",
    "ax.set_xticks(ticks)\n",
    "ax.set_xticklabels(labs)\n",
    "ax.set_ylabel('Stations')\n",
    "ax.set_xlabel('Year')\n",
    "\n",
    "# ax.figure.savefig('images/close_station.png')"
   ]
  },
  {
   "cell_type": "code",
   "execution_count": 17,
   "metadata": {},
   "outputs": [
    {
     "data": {
      "image/png": "[encoded data removed]",
      "text/plain": [
       "<Figure size 576x396 with 1 Axes>"
      ]
     },
     "metadata": {},
     "output_type": "display_data"
    }
   ],
   "source": [
    "#Create bar chart of closures in tracks over time\n",
    "group_obj = df_boston_tracks.groupby(['closure'])['id'].count()\n",
    "group_df = group_obj.reset_index()\n",
    "ticks = [1,10,20]\n",
    "labs = [group_df['closure'][tick] for tick in ticks]\n",
    "ax = group_obj.plot.bar()\n",
    "ax.set_title('Track Closures')\n",
    "ax.set_xticks(ticks)\n",
    "ax.set_xticklabels(labs)\n",
    "ax.set_ylabel('Tracks')\n",
    "ax.set_xlabel('Year')\n",
    "\n",
    "# ax.figure.savefig('images/close_track.png')"
   ]
  },
  {
   "cell_type": "code",
   "execution_count": null,
   "metadata": {},
   "outputs": [],
   "source": []
  },
  {
   "cell_type": "code",
   "execution_count": null,
   "metadata": {},
   "outputs": [],
   "source": []
  },
  {
   "cell_type": "code",
   "execution_count": null,
   "metadata": {},
   "outputs": [],
   "source": []
  },
  {
   "cell_type": "code",
   "execution_count": null,
   "metadata": {},
   "outputs": [],
   "source": []
  },
  {
   "cell_type": "code",
   "execution_count": null,
   "metadata": {},
   "outputs": [],
   "source": []
  },
  {
   "cell_type": "code",
   "execution_count": null,
   "metadata": {},
   "outputs": [],
   "source": []
  },
  {
   "cell_type": "code",
   "execution_count": null,
   "metadata": {},
   "outputs": [],
   "source": []
  },
  {
   "cell_type": "code",
   "execution_count": null,
   "metadata": {},
   "outputs": [],
   "source": []
  },
  {
   "cell_type": "code",
   "execution_count": null,
   "metadata": {},
   "outputs": [],
   "source": []
  },
  {
   "cell_type": "code",
   "execution_count": null,
   "metadata": {},
   "outputs": [],
   "source": []
  },
  {
   "cell_type": "code",
   "execution_count": null,
   "metadata": {},
   "outputs": [],
   "source": []
  },
  {
   "cell_type": "code",
   "execution_count": null,
   "metadata": {},
   "outputs": [],
   "source": []
  }
 ],
 "metadata": {
  "kernelspec": {
   "display_name": "Python 3",
   "language": "python",
   "name": "python3"
  },
  "language_info": {
   "codemirror_mode": {
    "name": "ipython",
    "version": 3
   },
   "file_extension": ".py",
   "mimetype": "text/x-python",
   "name": "python",
   "nbconvert_exporter": "python",
   "pygments_lexer": "ipython3",
   "version": "3.7.6"
  }
 },
 "nbformat": 4,
 "nbformat_minor": 4
}
